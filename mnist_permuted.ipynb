{
  "nbformat": 4,
  "nbformat_minor": 0,
  "metadata": {
    "colab": {
      "name": "A2_task2_permuted.ipynb",
      "provenance": [],
      "toc_visible": true
    },
    "kernelspec": {
      "name": "python3",
      "display_name": "Python 3"
    },
    "language_info": {
      "name": "python"
    },
    "accelerator": "GPU"
  },
  "cells": [
    {
      "cell_type": "markdown",
      "metadata": {
        "id": "GZ9paX6DJJeH"
      },
      "source": [
        "# Imports"
      ]
    },
    {
      "cell_type": "code",
      "metadata": {
        "id": "NLLb2dR7sAp1"
      },
      "source": [
        "from __future__ import print_function\n",
        "import tensorflow as tf\n",
        "import numpy as np\n",
        "from sklearn.metrics import accuracy_score, classification_report, precision_recall_fscore_support\n",
        "from sklearn.model_selection import train_test_split\n",
        "from tensorflow import keras\n",
        "from tensorflow.keras.datasets import mnist, fashion_mnist\n",
        "from tensorflow.keras.models import Sequential\n",
        "from tensorflow.keras.layers import Dense, Dropout, Flatten, LeakyReLU, PReLU, ReLU, ELU, Input\n",
        "from tensorflow.keras import activations\n",
        "from tensorflow.keras.optimizers import RMSprop\n",
        "from tensorboard.plugins.hparams import api as hp\n",
        "from sklearn.model_selection import RandomizedSearchCV, GridSearchCV\n",
        "from enum import Enum\n",
        "from dataclasses import dataclass\n",
        "from keras.layers import Conv2D, MaxPooling2D\n",
        "from keras import backend as K\n",
        "from functools import partial\n",
        "from matplotlib import pyplot as plt"
      ],
      "execution_count": null,
      "outputs": []
    },
    {
      "cell_type": "markdown",
      "metadata": {
        "id": "sWm12CpHJLKk"
      },
      "source": [
        "# Constants"
      ]
    },
    {
      "cell_type": "code",
      "metadata": {
        "id": "bjPCdti7tZjO"
      },
      "source": [
        "BATCH_SIZE = 128\n",
        "NUM_CLASSES = 10\n",
        "EPOCHS = 30\n",
        "logs_dir = 'logs/models'"
      ],
      "execution_count": null,
      "outputs": []
    },
    {
      "cell_type": "markdown",
      "metadata": {
        "id": "G7kicOKmJM8h"
      },
      "source": [
        "# Dataset"
      ]
    },
    {
      "cell_type": "code",
      "metadata": {
        "id": "6yDyfsqptXdo"
      },
      "source": [
        "from dataclasses import dataclass\n",
        "from sklearn.utils import shuffle\n",
        "TRAIN_SET_RATE = 0.65\n",
        "VALID_SET_RATE = 0.15\n",
        "TEST_SET_RATE = 0.20\n",
        "\n",
        "@dataclass\n",
        "class Dataset():\n",
        "  name: str\n",
        "  x_train: object\n",
        "  y_train: object\n",
        "  x_valid: object\n",
        "  y_valid: object\n",
        "  x_test: object\n",
        "  y_test: object\n",
        "  y_test_labels: object\n",
        "\n",
        "def get_permuted_dataset(dataset, name, permutation=False, model_type=\"MLP\"):\n",
        "  (x_train, y_train), (x_test, y_test) = dataset.load_data()\n",
        "\n",
        "  X = np.concatenate((x_train, x_test))\n",
        "  y = np.concatenate((y_train, y_test))\n",
        "\n",
        "  if model_type == \"MLP\":\n",
        "    X = X.reshape(X.shape[0], 784)\n",
        "\n",
        "  X = X.astype('float32')\n",
        "  X /= 255\n",
        "  \n",
        "  if permutation:\n",
        "    X = np.random.permutation(X.T).T \n",
        "\n",
        "  x_train, x_test, y_train, y_test = train_test_split(X, y, test_size=TEST_SET_RATE, random_state=42)\n",
        "  x_train, x_valid, y_train, y_valid = train_test_split(x_train, y_train, test_size=VALID_SET_RATE, random_state=42)\n",
        "\n",
        "  y_train = keras.utils.to_categorical(y_train, NUM_CLASSES)\n",
        "  y_valid = keras.utils.to_categorical(y_valid, NUM_CLASSES)\n",
        "  y_test_labels = y_test\n",
        "  y_test = keras.utils.to_categorical(y_test, NUM_CLASSES)\n",
        "  \n",
        "  return Dataset(\n",
        "      name=name,\n",
        "      x_train=x_train,\n",
        "      y_train=y_train,\n",
        "      x_valid=x_valid,\n",
        "      y_valid=y_valid,\n",
        "      x_test=x_test,\n",
        "      y_test=y_test,\n",
        "      y_test_labels=y_test_labels\n",
        "  )\n",
        "\n"
      ],
      "execution_count": null,
      "outputs": []
    },
    {
      "cell_type": "markdown",
      "metadata": {
        "id": "sjGbAh-GJxp0"
      },
      "source": [
        "## Effect of permutation on pixels"
      ]
    },
    {
      "cell_type": "code",
      "metadata": {
        "colab": {
          "base_uri": "https://localhost:8080/",
          "height": 318
        },
        "id": "ejMKRyCDW4lN",
        "outputId": "43f9933b-9138-41d8-8a21-ed68969f913b"
      },
      "source": [
        "digits_dataset = get_permuted_dataset(mnist, 'mnist', permutation=False, model_type=\"CNN\")\n",
        "permuted_digits_dataset = get_permuted_dataset(mnist, 'permutated_digits', permutation=True, model_type=\"CNN\")\n",
        "\n",
        "fig, axs = plt.subplots(1, 2, figsize=(10, 5), sharex=False, sharey=True)\n",
        "\n",
        "axs[0].imshow(digits_dataset.x_valid[41], cmap='gray')\n",
        "axs[0].set_title(\"Original\")\n",
        "axs[1].imshow(permuted_digits_dataset.x_valid[41], cmap='gray')\n",
        "axs[1].set_title(\"Permuted\")\n",
        "\n",
        "plt.show()"
      ],
      "execution_count": null,
      "outputs": [
        {
          "output_type": "display_data",
          "data": {
            "image/png": "[encoded data removed]",
            "text/plain": [
              "<Figure size 720x360 with 2 Axes>"
            ]
          },
          "metadata": {
            "needs_background": "light"
          }
        }
      ]
    },
    {
      "cell_type": "markdown",
      "metadata": {
        "id": "5kKqr2lNJmP4"
      },
      "source": [
        "# Models"
      ]
    },
    {
      "cell_type": "markdown",
      "metadata": {
        "id": "ldF297PwJVf6"
      },
      "source": [
        "## MLP"
      ]
    },
    {
      "cell_type": "code",
      "metadata": {
        "id": "ihnDwz0xsHTw"
      },
      "source": [
        "def mlp_model():\n",
        "  model = Sequential()\n",
        "  model.add(Dense(512, activation='relu', input_shape=(784,)))\n",
        "  model.add(Dropout(0.2))\n",
        "  model.add(Dense(512, activation='relu'))\n",
        "  model.add(Dropout(0.2))\n",
        "  model.add(Dense(NUM_CLASSES, activation='softmax'))\n",
        "\n",
        "  model.compile(loss='categorical_crossentropy',\n",
        "                optimizer=RMSprop(),\n",
        "                metrics=['accuracy'])\n",
        "  \n",
        "  model.summary()\n",
        "  \n",
        "  return model\n"
      ],
      "execution_count": null,
      "outputs": []
    },
    {
      "cell_type": "markdown",
      "metadata": {
        "id": "dM57qOz1JiTT"
      },
      "source": [
        "## CNN"
      ]
    },
    {
      "cell_type": "code",
      "metadata": {
        "id": "NmqPRLGbJhdu"
      },
      "source": [
        "def cnn_model(X):\n",
        "  model = Sequential()\n",
        "  model.add(Input(shape=(X.shape[1], X.shape[2], 1)))\n",
        "  model.add(Conv2D(filters=64, kernel_size=7, activation='relu', padding='SAME'))\n",
        "  model.add(MaxPooling2D(pool_size=1))\n",
        "\n",
        "  model.add(Conv2D(filters=128, kernel_size=3, activation='relu', padding='SAME'))\n",
        "  model.add(Conv2D(filters=128, kernel_size=3, activation='relu', padding='SAME'))\n",
        "\n",
        "  model.add(MaxPooling2D(pool_size=1))\n",
        "  model.add(Conv2D(filters=256, kernel_size=3, activation='relu', padding='SAME'))\n",
        "  model.add(Conv2D(filters=256, kernel_size=3, activation='relu', padding='SAME'))\n",
        "  model.add(MaxPooling2D(pool_size=1))\n",
        "  \n",
        "  model.add(Flatten())\n",
        "\n",
        "  model.add(Dense(128, activation='relu'))\n",
        "  model.add(Dropout(0.5))\n",
        "  model.add(Dense(64, activation='relu'))\n",
        "  model.add(Dropout(0.5))\n",
        "\n",
        "  model.add(Dense(NUM_CLASSES, activation='softmax'))\n",
        "\n",
        "  model.compile(loss='categorical_crossentropy', optimizer=RMSprop(), metrics=['accuracy'])\n",
        "  \n",
        "  model.build()\n",
        "  model.summary()\n",
        "\n",
        "  return model"
      ],
      "execution_count": null,
      "outputs": []
    },
    {
      "cell_type": "markdown",
      "metadata": {
        "id": "M7GfG9pRJr7S"
      },
      "source": [
        "## Running a model"
      ]
    },
    {
      "cell_type": "code",
      "metadata": {
        "id": "oQynoOiaJrOq"
      },
      "source": [
        "\n",
        "def run(model, model_name, dataset):\n",
        "  model.fit(\n",
        "    dataset.x_train,\n",
        "    dataset.y_train,\n",
        "    epochs=EPOCHS,\n",
        "    batch_size=BATCH_SIZE,\n",
        "    validation_data=(dataset.x_valid, dataset.y_valid),\n",
        "    callbacks=[\n",
        "        keras.callbacks.EarlyStopping(patience=10),\n",
        "    ],\n",
        "  )\n",
        "\n",
        "  test_score = model.evaluate(dataset.x_test, dataset.y_test, verbose=0)\n",
        "  y_true = dataset.y_test_labels\n",
        "  y_pred_probabilities = model.predict(dataset.x_test)\n",
        "  y_pred = y_pred_probabilities.argmax(axis=-1)\n",
        "  precision, recall, f1, _ = precision_recall_fscore_support(y_true, y_pred, average='weighted')\n",
        "  train_score = model.evaluate(dataset.x_train, dataset.y_train, verbose=0)\n",
        "  return train_score[1], test_score[1], f1"
      ],
      "execution_count": null,
      "outputs": []
    },
    {
      "cell_type": "markdown",
      "metadata": {
        "id": "ybpjGWf5vezC"
      },
      "source": [
        "# Running experiments"
      ]
    },
    {
      "cell_type": "markdown",
      "metadata": {
        "id": "FhWSxzLuKVOI"
      },
      "source": [
        "## MLP"
      ]
    },
    {
      "cell_type": "code",
      "metadata": {
        "id": "9q6ueazg_Hsz"
      },
      "source": [
        "BASELINE_DIGITS_DATASET = get_permuted_dataset(mnist, 'permutated_digits', permutation=False)\n",
        "BASELINE_FASHION_DATASET = get_permuted_dataset(fashion_mnist, 'permuted_fashion', permutation=False)\n",
        "PERMUTED_DIGITS_DATASET = get_permuted_dataset(mnist, 'permutated_digits', permutation=True)\n",
        "PERMUTED_FASHION_DATASET = get_permuted_dataset(fashion_mnist, 'permuted_fashion', permutation=True)"
      ],
      "execution_count": null,
      "outputs": []
    },
    {
      "cell_type": "markdown",
      "metadata": {
        "id": "3f1iFQSmsU5m"
      },
      "source": [
        "### Baseline"
      ]
    },
    {
      "cell_type": "code",
      "metadata": {
        "colab": {
          "base_uri": "https://localhost:8080/"
        },
        "id": "rfLbuYZwsoQP",
        "outputId": "2a05b0b8-56e1-4232-8e1e-cf785a6d0c07"
      },
      "source": [
        "_, mlp_digits_test_accuracy, mlp_digits_f1_score = run(mlp_model(), 'MLP on permuted digits mnist', BASELINE_DIGITS_DATASET)\n",
        "_, mlp_fashion_test_accuracy, mlp_fashion_f1_score = run(mlp_model(), 'MLP on permuted fashion mnist', BASELINE_FASHION_DATASET)\n",
        "\n",
        "print(f'MLP Test accuracy on digits MNIST: {mlp_digits_test_accuracy}')\n",
        "print(f'MLP F1 score on digits MNIST: {mlp_digits_f1_score}')\n",
        "print(f'MLP Test accuracy on fashion MNIST: {mlp_fashion_test_accuracy}')\n",
        "print(f'MLP F1 score on fashion MNIST: {mlp_fashion_f1_score}')"
      ],
      "execution_count": null,
      "outputs": [
        {
          "output_type": "stream",
          "name": "stdout",
          "text": [
            "Model: \"sequential_2\"\n",
            "_________________________________________________________________\n",
            " Layer (type)                Output Shape              Param #   \n",
            "=================================================================\n",
            " dense_6 (Dense)             (None, 512)               401920    \n",
            "                                                                 \n",
            " dropout_4 (Dropout)         (None, 512)               0         \n",
            "                                                                 \n",
            " dense_7 (Dense)             (None, 512)               262656    \n",
            "                                                                 \n",
            " dropout_5 (Dropout)         (None, 512)               0         \n",
            "                                                                 \n",
            " dense_8 (Dense)             (None, 10)                5130      \n",
            "                                                                 \n",
            "=================================================================\n",
            "Total params: 669,706\n",
            "Trainable params: 669,706\n",
            "Non-trainable params: 0\n",
            "_________________________________________________________________\n",
            "Model: \"sequential_2\"\n",
            "_________________________________________________________________\n",
            " Layer (type)                Output Shape              Param #   \n",
            "=================================================================\n",
            " dense_6 (Dense)             (None, 512)               401920    \n",
            "                                                                 \n",
            " dropout_4 (Dropout)         (None, 512)               0         \n",
            "                                                                 \n",
            " dense_7 (Dense)             (None, 512)               262656    \n",
            "                                                                 \n",
            " dropout_5 (Dropout)         (None, 512)               0         \n",
            "                                                                 \n",
            " dense_8 (Dense)             (None, 10)                5130      \n",
            "                                                                 \n",
            "=================================================================\n",
            "Total params: 669,706\n",
            "Trainable params: 669,706\n",
            "Non-trainable params: 0\n",
            "_________________________________________________________________\n",
            "Epoch 1/30\n",
            "419/419 [==============================] - 4s 7ms/step - loss: 0.2600 - accuracy: 0.9202 - val_loss: 0.1043 - val_accuracy: 0.9678\n",
            "Epoch 2/30\n",
            "419/419 [==============================] - 3s 6ms/step - loss: 0.1082 - accuracy: 0.9666 - val_loss: 0.0663 - val_accuracy: 0.9789\n",
            "Epoch 3/30\n",
            "419/419 [==============================] - 3s 6ms/step - loss: 0.0787 - accuracy: 0.9764 - val_loss: 0.0853 - val_accuracy: 0.9740\n",
            "Epoch 4/30\n",
            "419/419 [==============================] - 3s 6ms/step - loss: 0.0608 - accuracy: 0.9821 - val_loss: 0.0654 - val_accuracy: 0.9804\n",
            "Epoch 5/30\n",
            "419/419 [==============================] - 3s 6ms/step - loss: 0.0520 - accuracy: 0.9846 - val_loss: 0.0656 - val_accuracy: 0.9804\n",
            "Epoch 6/30\n",
            "419/419 [==============================] - 3s 6ms/step - loss: 0.0445 - accuracy: 0.9861 - val_loss: 0.0621 - val_accuracy: 0.9832\n",
            "Epoch 7/30\n",
            "419/419 [==============================] - 3s 6ms/step - loss: 0.0384 - accuracy: 0.9884 - val_loss: 0.0629 - val_accuracy: 0.9836\n",
            "Epoch 8/30\n",
            "419/419 [==============================] - 3s 6ms/step - loss: 0.0327 - accuracy: 0.9899 - val_loss: 0.0652 - val_accuracy: 0.9837\n",
            "Epoch 9/30\n",
            "419/419 [==============================] - 3s 6ms/step - loss: 0.0302 - accuracy: 0.9911 - val_loss: 0.0717 - val_accuracy: 0.9833\n",
            "Epoch 10/30\n",
            "419/419 [==============================] - 3s 6ms/step - loss: 0.0291 - accuracy: 0.9916 - val_loss: 0.0784 - val_accuracy: 0.9834\n",
            "Epoch 11/30\n",
            "419/419 [==============================] - 3s 6ms/step - loss: 0.0279 - accuracy: 0.9921 - val_loss: 0.0675 - val_accuracy: 0.9844\n",
            "Epoch 12/30\n",
            "419/419 [==============================] - 3s 6ms/step - loss: 0.0242 - accuracy: 0.9931 - val_loss: 0.0720 - val_accuracy: 0.9850\n",
            "Epoch 13/30\n",
            "419/419 [==============================] - 3s 6ms/step - loss: 0.0229 - accuracy: 0.9934 - val_loss: 0.0796 - val_accuracy: 0.9854\n",
            "Epoch 14/30\n",
            "419/419 [==============================] - 3s 6ms/step - loss: 0.0216 - accuracy: 0.9937 - val_loss: 0.0806 - val_accuracy: 0.9856\n",
            "Epoch 15/30\n",
            "419/419 [==============================] - 3s 6ms/step - loss: 0.0199 - accuracy: 0.9947 - val_loss: 0.0993 - val_accuracy: 0.9842\n",
            "Epoch 16/30\n",
            "419/419 [==============================] - 3s 6ms/step - loss: 0.0205 - accuracy: 0.9948 - val_loss: 0.0996 - val_accuracy: 0.9840\n",
            "Model: \"sequential_3\"\n",
            "_________________________________________________________________\n",
            " Layer (type)                Output Shape              Param #   \n",
            "=================================================================\n",
            " dense_9 (Dense)             (None, 512)               401920    \n",
            "                                                                 \n",
            " dropout_6 (Dropout)         (None, 512)               0         \n",
            "                                                                 \n",
            " dense_10 (Dense)            (None, 512)               262656    \n",
            "                                                                 \n",
            " dropout_7 (Dropout)         (None, 512)               0         \n",
            "                                                                 \n",
            " dense_11 (Dense)            (None, 10)                5130      \n",
            "                                                                 \n",
            "=================================================================\n",
            "Total params: 669,706\n",
            "Trainable params: 669,706\n",
            "Non-trainable params: 0\n",
            "_________________________________________________________________\n",
            "Model: \"sequential_3\"\n",
            "_________________________________________________________________\n",
            " Layer (type)                Output Shape              Param #   \n",
            "=================================================================\n",
            " dense_9 (Dense)             (None, 512)               401920    \n",
            "                                                                 \n",
            " dropout_6 (Dropout)         (None, 512)               0         \n",
            "                                                                 \n",
            " dense_10 (Dense)            (None, 512)               262656    \n",
            "                                                                 \n",
            " dropout_7 (Dropout)         (None, 512)               0         \n",
            "                                                                 \n",
            " dense_11 (Dense)            (None, 10)                5130      \n",
            "                                                                 \n",
            "=================================================================\n",
            "Total params: 669,706\n",
            "Trainable params: 669,706\n",
            "Non-trainable params: 0\n",
            "_________________________________________________________________\n",
            "Epoch 1/30\n",
            "419/419 [==============================] - 3s 7ms/step - loss: 0.5809 - accuracy: 0.7875 - val_loss: 0.4406 - val_accuracy: 0.8421\n",
            "Epoch 2/30\n",
            "419/419 [==============================] - 3s 6ms/step - loss: 0.4123 - accuracy: 0.8493 - val_loss: 0.4188 - val_accuracy: 0.8452\n",
            "Epoch 3/30\n",
            "419/419 [==============================] - 3s 6ms/step - loss: 0.3779 - accuracy: 0.8644 - val_loss: 0.3688 - val_accuracy: 0.8648\n",
            "Epoch 4/30\n",
            "419/419 [==============================] - 3s 6ms/step - loss: 0.3542 - accuracy: 0.8718 - val_loss: 0.3804 - val_accuracy: 0.8672\n",
            "Epoch 5/30\n",
            "419/419 [==============================] - 3s 6ms/step - loss: 0.3409 - accuracy: 0.8772 - val_loss: 0.3809 - val_accuracy: 0.8639\n",
            "Epoch 6/30\n",
            "419/419 [==============================] - 3s 6ms/step - loss: 0.3275 - accuracy: 0.8830 - val_loss: 0.4020 - val_accuracy: 0.8608\n",
            "Epoch 7/30\n",
            "419/419 [==============================] - 3s 6ms/step - loss: 0.3216 - accuracy: 0.8846 - val_loss: 0.4217 - val_accuracy: 0.8622\n",
            "Epoch 8/30\n",
            "419/419 [==============================] - 3s 7ms/step - loss: 0.3158 - accuracy: 0.8872 - val_loss: 0.3506 - val_accuracy: 0.8800\n",
            "Epoch 9/30\n",
            "419/419 [==============================] - 3s 6ms/step - loss: 0.3051 - accuracy: 0.8893 - val_loss: 0.4006 - val_accuracy: 0.8698\n",
            "Epoch 10/30\n",
            "419/419 [==============================] - 3s 6ms/step - loss: 0.3006 - accuracy: 0.8935 - val_loss: 0.3540 - val_accuracy: 0.8810\n",
            "Epoch 11/30\n",
            "419/419 [==============================] - 3s 6ms/step - loss: 0.2991 - accuracy: 0.8938 - val_loss: 0.4083 - val_accuracy: 0.8678\n",
            "Epoch 12/30\n",
            "419/419 [==============================] - 3s 7ms/step - loss: 0.2931 - accuracy: 0.8955 - val_loss: 0.3711 - val_accuracy: 0.8703\n",
            "Epoch 13/30\n",
            "419/419 [==============================] - 3s 7ms/step - loss: 0.2882 - accuracy: 0.8974 - val_loss: 0.3952 - val_accuracy: 0.8777\n",
            "Epoch 14/30\n",
            "419/419 [==============================] - 3s 6ms/step - loss: 0.2797 - accuracy: 0.8998 - val_loss: 0.3589 - val_accuracy: 0.8862\n",
            "Epoch 15/30\n",
            "419/419 [==============================] - 3s 6ms/step - loss: 0.2830 - accuracy: 0.9004 - val_loss: 0.3625 - val_accuracy: 0.8892\n",
            "Epoch 16/30\n",
            "419/419 [==============================] - 3s 6ms/step - loss: 0.2773 - accuracy: 0.9022 - val_loss: 0.4086 - val_accuracy: 0.8683\n",
            "Epoch 17/30\n",
            "419/419 [==============================] - 3s 6ms/step - loss: 0.2725 - accuracy: 0.9025 - val_loss: 0.4177 - val_accuracy: 0.8815\n",
            "Epoch 18/30\n",
            "419/419 [==============================] - 3s 6ms/step - loss: 0.2725 - accuracy: 0.9045 - val_loss: 0.3998 - val_accuracy: 0.8780\n",
            "MLP Test accuracy on digits MNIST: 0.9807142615318298\n",
            "MLP F1 score on digits MNIST: 0.9806822850162882\n",
            "MLP Test accuracy on fashion MNIST: 0.8898571133613586\n",
            "MLP F1 score on fashion MNIST: 0.8876923386467344\n"
          ]
        }
      ]
    },
    {
      "cell_type": "markdown",
      "metadata": {
        "id": "kp7qfE88sWtG"
      },
      "source": [
        "### Permuted"
      ]
    },
    {
      "cell_type": "code",
      "metadata": {
        "id": "5inxLBcfLDMu",
        "colab": {
          "base_uri": "https://localhost:8080/"
        },
        "outputId": "1fde40d6-b21f-41ac-9390-65220778699c"
      },
      "source": [
        "_, mlp_digits_test_accuracy, mlp_digits_f1_score = run(mlp_model(), 'MLP on permuted digits mnist', PERMUTED_DIGITS_DATASET)\n",
        "_, mlp_fashion_test_accuracy, mlp_fashion_f1_score = run(mlp_model(), 'MLP on permuted fashion mnist', PERMUTED_FASHION_DATASET)\n",
        "\n",
        "print(f'MLP Test accuracy on digits MNIST: {mlp_digits_test_accuracy}')\n",
        "print(f'MLP F1 score on digits MNIST: {mlp_digits_f1_score}')\n",
        "print(f'MLP Test accuracy on fashion MNIST: {mlp_fashion_test_accuracy}')\n",
        "print(f'MLP F1 score on fashion MNIST: {mlp_fashion_f1_score}')"
      ],
      "execution_count": null,
      "outputs": [
        {
          "output_type": "stream",
          "name": "stdout",
          "text": [
            "Model: \"sequential\"\n",
            "_________________________________________________________________\n",
            " Layer (type)                Output Shape              Param #   \n",
            "=================================================================\n",
            " dense (Dense)               (None, 512)               401920    \n",
            "                                                                 \n",
            " dropout (Dropout)           (None, 512)               0         \n",
            "                                                                 \n",
            " dense_1 (Dense)             (None, 512)               262656    \n",
            "                                                                 \n",
            " dropout_1 (Dropout)         (None, 512)               0         \n",
            "                                                                 \n",
            " dense_2 (Dense)             (None, 10)                5130      \n",
            "                                                                 \n",
            "=================================================================\n",
            "Total params: 669,706\n",
            "Trainable params: 669,706\n",
            "Non-trainable params: 0\n",
            "_________________________________________________________________\n",
            "Model: \"sequential\"\n",
            "_________________________________________________________________\n",
            " Layer (type)                Output Shape              Param #   \n",
            "=================================================================\n",
            " dense (Dense)               (None, 512)               401920    \n",
            "                                                                 \n",
            " dropout (Dropout)           (None, 512)               0         \n",
            "                                                                 \n",
            " dense_1 (Dense)             (None, 512)               262656    \n",
            "                                                                 \n",
            " dropout_1 (Dropout)         (None, 512)               0         \n",
            "                                                                 \n",
            " dense_2 (Dense)             (None, 10)                5130      \n",
            "                                                                 \n",
            "=================================================================\n",
            "Total params: 669,706\n",
            "Trainable params: 669,706\n",
            "Non-trainable params: 0\n",
            "_________________________________________________________________\n",
            "Epoch 1/30\n",
            "419/419 [==============================] - 6s 7ms/step - loss: 0.2611 - accuracy: 0.9199 - val_loss: 0.1101 - val_accuracy: 0.9649\n",
            "Epoch 2/30\n",
            "419/419 [==============================] - 3s 6ms/step - loss: 0.1090 - accuracy: 0.9670 - val_loss: 0.0790 - val_accuracy: 0.9758\n",
            "Epoch 3/30\n",
            "419/419 [==============================] - 3s 6ms/step - loss: 0.0761 - accuracy: 0.9769 - val_loss: 0.0620 - val_accuracy: 0.9790\n",
            "Epoch 4/30\n",
            "419/419 [==============================] - 3s 6ms/step - loss: 0.0617 - accuracy: 0.9808 - val_loss: 0.0570 - val_accuracy: 0.9826\n",
            "Epoch 5/30\n",
            "419/419 [==============================] - 3s 6ms/step - loss: 0.0519 - accuracy: 0.9850 - val_loss: 0.0632 - val_accuracy: 0.9815\n",
            "Epoch 6/30\n",
            "419/419 [==============================] - 3s 6ms/step - loss: 0.0441 - accuracy: 0.9867 - val_loss: 0.0518 - val_accuracy: 0.9850\n",
            "Epoch 7/30\n",
            "419/419 [==============================] - 3s 6ms/step - loss: 0.0380 - accuracy: 0.9885 - val_loss: 0.0643 - val_accuracy: 0.9840\n",
            "Epoch 8/30\n",
            "419/419 [==============================] - 3s 6ms/step - loss: 0.0339 - accuracy: 0.9903 - val_loss: 0.0598 - val_accuracy: 0.9841\n",
            "Epoch 9/30\n",
            "419/419 [==============================] - 3s 6ms/step - loss: 0.0295 - accuracy: 0.9914 - val_loss: 0.0580 - val_accuracy: 0.9867\n",
            "Epoch 10/30\n",
            "419/419 [==============================] - 3s 6ms/step - loss: 0.0291 - accuracy: 0.9912 - val_loss: 0.0698 - val_accuracy: 0.9841\n",
            "Epoch 11/30\n",
            "419/419 [==============================] - 3s 6ms/step - loss: 0.0247 - accuracy: 0.9928 - val_loss: 0.0755 - val_accuracy: 0.9835\n",
            "Epoch 12/30\n",
            "419/419 [==============================] - 3s 6ms/step - loss: 0.0248 - accuracy: 0.9934 - val_loss: 0.0691 - val_accuracy: 0.9856\n",
            "Epoch 13/30\n",
            "419/419 [==============================] - 3s 6ms/step - loss: 0.0244 - accuracy: 0.9933 - val_loss: 0.0742 - val_accuracy: 0.9859\n",
            "Epoch 14/30\n",
            "419/419 [==============================] - 3s 7ms/step - loss: 0.0229 - accuracy: 0.9936 - val_loss: 0.0751 - val_accuracy: 0.9854\n",
            "Epoch 15/30\n",
            "419/419 [==============================] - 3s 6ms/step - loss: 0.0222 - accuracy: 0.9940 - val_loss: 0.0758 - val_accuracy: 0.9855\n",
            "Epoch 16/30\n",
            "419/419 [==============================] - 3s 7ms/step - loss: 0.0187 - accuracy: 0.9948 - val_loss: 0.0773 - val_accuracy: 0.9856\n",
            "Model: \"sequential_1\"\n",
            "_________________________________________________________________\n",
            " Layer (type)                Output Shape              Param #   \n",
            "=================================================================\n",
            " dense_3 (Dense)             (None, 512)               401920    \n",
            "                                                                 \n",
            " dropout_2 (Dropout)         (None, 512)               0         \n",
            "                                                                 \n",
            " dense_4 (Dense)             (None, 512)               262656    \n",
            "                                                                 \n",
            " dropout_3 (Dropout)         (None, 512)               0         \n",
            "                                                                 \n",
            " dense_5 (Dense)             (None, 10)                5130      \n",
            "                                                                 \n",
            "=================================================================\n",
            "Total params: 669,706\n",
            "Trainable params: 669,706\n",
            "Non-trainable params: 0\n",
            "_________________________________________________________________\n",
            "Model: \"sequential_1\"\n",
            "_________________________________________________________________\n",
            " Layer (type)                Output Shape              Param #   \n",
            "=================================================================\n",
            " dense_3 (Dense)             (None, 512)               401920    \n",
            "                                                                 \n",
            " dropout_2 (Dropout)         (None, 512)               0         \n",
            "                                                                 \n",
            " dense_4 (Dense)             (None, 512)               262656    \n",
            "                                                                 \n",
            " dropout_3 (Dropout)         (None, 512)               0         \n",
            "                                                                 \n",
            " dense_5 (Dense)             (None, 10)                5130      \n",
            "                                                                 \n",
            "=================================================================\n",
            "Total params: 669,706\n",
            "Trainable params: 669,706\n",
            "Non-trainable params: 0\n",
            "_________________________________________________________________\n",
            "Epoch 1/30\n",
            "419/419 [==============================] - 4s 7ms/step - loss: 0.5777 - accuracy: 0.7900 - val_loss: 0.4322 - val_accuracy: 0.8389\n",
            "Epoch 2/30\n",
            "419/419 [==============================] - 3s 6ms/step - loss: 0.4111 - accuracy: 0.8488 - val_loss: 0.4499 - val_accuracy: 0.8199\n",
            "Epoch 3/30\n",
            "419/419 [==============================] - 3s 6ms/step - loss: 0.3750 - accuracy: 0.8644 - val_loss: 0.4075 - val_accuracy: 0.8551\n",
            "Epoch 4/30\n",
            "419/419 [==============================] - 3s 6ms/step - loss: 0.3560 - accuracy: 0.8703 - val_loss: 0.3992 - val_accuracy: 0.8571\n",
            "Epoch 5/30\n",
            "419/419 [==============================] - 3s 6ms/step - loss: 0.3403 - accuracy: 0.8776 - val_loss: 0.3728 - val_accuracy: 0.8676\n",
            "Epoch 6/30\n",
            "419/419 [==============================] - 3s 6ms/step - loss: 0.3281 - accuracy: 0.8817 - val_loss: 0.3976 - val_accuracy: 0.8618\n",
            "Epoch 7/30\n",
            "419/419 [==============================] - 3s 6ms/step - loss: 0.3210 - accuracy: 0.8846 - val_loss: 0.3502 - val_accuracy: 0.8689\n",
            "Epoch 8/30\n",
            "419/419 [==============================] - 3s 7ms/step - loss: 0.3158 - accuracy: 0.8862 - val_loss: 0.3424 - val_accuracy: 0.8803\n",
            "Epoch 9/30\n",
            "419/419 [==============================] - 3s 6ms/step - loss: 0.3082 - accuracy: 0.8893 - val_loss: 0.3687 - val_accuracy: 0.8691\n",
            "Epoch 10/30\n",
            "419/419 [==============================] - 3s 6ms/step - loss: 0.3014 - accuracy: 0.8934 - val_loss: 0.3582 - val_accuracy: 0.8788\n",
            "Epoch 11/30\n",
            "419/419 [==============================] - 3s 6ms/step - loss: 0.2992 - accuracy: 0.8935 - val_loss: 0.3574 - val_accuracy: 0.8707\n",
            "Epoch 12/30\n",
            "419/419 [==============================] - 3s 7ms/step - loss: 0.2930 - accuracy: 0.8946 - val_loss: 0.3851 - val_accuracy: 0.8728\n",
            "Epoch 13/30\n",
            "419/419 [==============================] - 3s 6ms/step - loss: 0.2904 - accuracy: 0.8962 - val_loss: 0.3456 - val_accuracy: 0.8842\n",
            "Epoch 14/30\n",
            "419/419 [==============================] - 3s 7ms/step - loss: 0.2866 - accuracy: 0.9002 - val_loss: 0.4026 - val_accuracy: 0.8724\n",
            "Epoch 15/30\n",
            "419/419 [==============================] - 3s 6ms/step - loss: 0.2852 - accuracy: 0.8999 - val_loss: 0.3773 - val_accuracy: 0.8852\n",
            "Epoch 16/30\n",
            "419/419 [==============================] - 3s 6ms/step - loss: 0.2796 - accuracy: 0.9019 - val_loss: 0.4390 - val_accuracy: 0.8749\n",
            "Epoch 17/30\n",
            "419/419 [==============================] - 3s 7ms/step - loss: 0.2762 - accuracy: 0.9032 - val_loss: 0.4042 - val_accuracy: 0.8775\n",
            "Epoch 18/30\n",
            "419/419 [==============================] - 3s 6ms/step - loss: 0.2741 - accuracy: 0.9031 - val_loss: 0.4515 - val_accuracy: 0.8728\n",
            "MLP Test accuracy on digits MNIST: 0.978857159614563\n",
            "MLP F1 score on digits MNIST: 0.9788511315856336\n",
            "MLP Test accuracy on fashion MNIST: 0.8805714249610901\n",
            "MLP F1 score on fashion MNIST: 0.8810020340540533\n"
          ]
        }
      ]
    },
    {
      "cell_type": "markdown",
      "metadata": {
        "id": "-svoEqQ0KXIy"
      },
      "source": [
        "## CNN"
      ]
    },
    {
      "cell_type": "code",
      "metadata": {
        "colab": {
          "base_uri": "https://localhost:8080/"
        },
        "id": "24UvNEUe_LWo",
        "outputId": "49f53b8f-1e62-4e37-f6df-a69c5dbcc0f9"
      },
      "source": [
        "BASELINE_DIGITS_DATASET = get_permuted_dataset(mnist, 'permutated_digits', permutation=False, model_type=\"CNN\")\n",
        "BASELINE_FASHION_DATASET = get_permuted_dataset(fashion_mnist, 'permuted_fashion', permutation=False, model_type=\"CNN\")\n",
        "PERMUTED_DIGITS_DATASET = get_permuted_dataset(mnist, 'permutated_digits', permutation=True, model_type=\"CNN\")\n",
        "PERMUTED_FASHION_DATASET = get_permuted_dataset(fashion_mnist, 'permuted_fashion', permutation=True, model_type=\"CNN\")"
      ],
      "execution_count": null,
      "outputs": [
        {
          "output_type": "stream",
          "name": "stdout",
          "text": [
            "Downloading data from https://storage.googleapis.com/tensorflow/tf-keras-datasets/train-labels-idx1-ubyte.gz\n",
            "32768/29515 [=================================] - 0s 0us/step\n",
            "40960/29515 [=========================================] - 0s 0us/step\n",
            "Downloading data from https://storage.googleapis.com/tensorflow/tf-keras-datasets/train-images-idx3-ubyte.gz\n",
            "26427392/26421880 [==============================] - 0s 0us/step\n",
            "26435584/26421880 [==============================] - 0s 0us/step\n",
            "Downloading data from https://storage.googleapis.com/tensorflow/tf-keras-datasets/t10k-labels-idx1-ubyte.gz\n",
            "16384/5148 [===============================================================================================] - 0s 0us/step\n",
            "Downloading data from https://storage.googleapis.com/tensorflow/tf-keras-datasets/t10k-images-idx3-ubyte.gz\n",
            "4423680/4422102 [==============================] - 0s 0us/step\n",
            "4431872/4422102 [==============================] - 0s 0us/step\n"
          ]
        }
      ]
    },
    {
      "cell_type": "markdown",
      "metadata": {
        "id": "rDwqEvpx0MDv"
      },
      "source": [
        "### Baseline"
      ]
    },
    {
      "cell_type": "code",
      "metadata": {
        "colab": {
          "base_uri": "https://localhost:8080/"
        },
        "id": "_sgLFSw60OTF",
        "outputId": "579627ae-2d76-4f38-9265-b28053af72e5"
      },
      "source": [
        "_, cnn_digits_test_accuracy, cnn_digits_f1_score = run(cnn_model(BASELINE_DIGITS_DATASET.x_train), 'CNN on permuted digits mnist', BASELINE_DIGITS_DATASET)\n",
        "_, cnn_fashion_test_accuracy, cnn_fashion_f1_score = run(cnn_model(BASELINE_FASHION_DATASET.x_train), 'CNN on permuted fashion mnist', BASELINE_FASHION_DATASET)\n",
        "\n",
        "print(f'CNN Test accuracy on digits MNIST: {cnn_digits_test_accuracy}')\n",
        "print(f'CNN F1 score on digits MNIST: {cnn_digits_f1_score}')\n",
        "print(f'CNN Test accuracy on fashion MNIST: {cnn_fashion_test_accuracy}')\n",
        "print(f'CNN F1 score on fashion MNIST: {cnn_fashion_f1_score}')"
      ],
      "execution_count": null,
      "outputs": [
        {
          "output_type": "stream",
          "name": "stdout",
          "text": [
            "Model: \"sequential_3\"\n",
            "_________________________________________________________________\n",
            " Layer (type)                Output Shape              Param #   \n",
            "=================================================================\n",
            " conv2d_15 (Conv2D)          (None, 28, 28, 64)        3200      \n",
            "                                                                 \n",
            " max_pooling2d_9 (MaxPooling  (None, 28, 28, 64)       0         \n",
            " 2D)                                                             \n",
            "                                                                 \n",
            " conv2d_16 (Conv2D)          (None, 28, 28, 128)       73856     \n",
            "                                                                 \n",
            " conv2d_17 (Conv2D)          (None, 28, 28, 128)       147584    \n",
            "                                                                 \n",
            " max_pooling2d_10 (MaxPoolin  (None, 28, 28, 128)      0         \n",
            " g2D)                                                            \n",
            "                                                                 \n",
            " conv2d_18 (Conv2D)          (None, 28, 28, 256)       295168    \n",
            "                                                                 \n",
            " conv2d_19 (Conv2D)          (None, 28, 28, 256)       590080    \n",
            "                                                                 \n",
            " max_pooling2d_11 (MaxPoolin  (None, 28, 28, 256)      0         \n",
            " g2D)                                                            \n",
            "                                                                 \n",
            " flatten_3 (Flatten)         (None, 200704)            0         \n",
            "                                                                 \n",
            " dense_9 (Dense)             (None, 128)               25690240  \n",
            "                                                                 \n",
            " dropout_6 (Dropout)         (None, 128)               0         \n",
            "                                                                 \n",
            " dense_10 (Dense)            (None, 64)                8256      \n",
            "                                                                 \n",
            " dropout_7 (Dropout)         (None, 64)                0         \n",
            "                                                                 \n",
            " dense_11 (Dense)            (None, 10)                650       \n",
            "                                                                 \n",
            "=================================================================\n",
            "Total params: 26,809,034\n",
            "Trainable params: 26,809,034\n",
            "Non-trainable params: 0\n",
            "_________________________________________________________________\n",
            "Epoch 1/10\n",
            "419/419 [==============================] - 93s 218ms/step - loss: 0.7447 - accuracy: 0.7910 - val_loss: 0.1379 - val_accuracy: 0.9672\n",
            "Epoch 2/10\n",
            "419/419 [==============================] - 91s 217ms/step - loss: 0.1689 - accuracy: 0.9590 - val_loss: 0.0904 - val_accuracy: 0.9801\n",
            "Epoch 3/10\n",
            "419/419 [==============================] - 91s 218ms/step - loss: 0.1191 - accuracy: 0.9724 - val_loss: 0.0454 - val_accuracy: 0.9888\n",
            "Epoch 4/10\n",
            "419/419 [==============================] - 91s 216ms/step - loss: 0.1093 - accuracy: 0.9758 - val_loss: 0.0576 - val_accuracy: 0.9885\n",
            "Epoch 5/10\n",
            "419/419 [==============================] - 90s 216ms/step - loss: 0.0982 - accuracy: 0.9783 - val_loss: 0.0744 - val_accuracy: 0.9856\n",
            "Epoch 6/10\n",
            "419/419 [==============================] - 91s 218ms/step - loss: 0.0926 - accuracy: 0.9801 - val_loss: 0.1188 - val_accuracy: 0.9796\n",
            "Epoch 7/10\n",
            "419/419 [==============================] - 90s 216ms/step - loss: 0.0922 - accuracy: 0.9810 - val_loss: 0.1260 - val_accuracy: 0.9779\n",
            "Epoch 8/10\n",
            "419/419 [==============================] - 90s 216ms/step - loss: 0.1011 - accuracy: 0.9795 - val_loss: 0.0483 - val_accuracy: 0.9901\n",
            "Epoch 9/10\n",
            "419/419 [==============================] - 90s 215ms/step - loss: 0.1026 - accuracy: 0.9805 - val_loss: 0.0715 - val_accuracy: 0.9902\n",
            "Epoch 10/10\n",
            "419/419 [==============================] - 90s 215ms/step - loss: 0.1093 - accuracy: 0.9791 - val_loss: 0.0874 - val_accuracy: 0.9846\n",
            "Model: \"sequential_4\"\n",
            "_________________________________________________________________\n",
            " Layer (type)                Output Shape              Param #   \n",
            "=================================================================\n",
            " conv2d_20 (Conv2D)          (None, 28, 28, 64)        3200      \n",
            "                                                                 \n",
            " max_pooling2d_12 (MaxPoolin  (None, 28, 28, 64)       0         \n",
            " g2D)                                                            \n",
            "                                                                 \n",
            " conv2d_21 (Conv2D)          (None, 28, 28, 128)       73856     \n",
            "                                                                 \n",
            " conv2d_22 (Conv2D)          (None, 28, 28, 128)       147584    \n",
            "                                                                 \n",
            " max_pooling2d_13 (MaxPoolin  (None, 28, 28, 128)      0         \n",
            " g2D)                                                            \n",
            "                                                                 \n",
            " conv2d_23 (Conv2D)          (None, 28, 28, 256)       295168    \n",
            "                                                                 \n",
            " conv2d_24 (Conv2D)          (None, 28, 28, 256)       590080    \n",
            "                                                                 \n",
            " max_pooling2d_14 (MaxPoolin  (None, 28, 28, 256)      0         \n",
            " g2D)                                                            \n",
            "                                                                 \n",
            " flatten_4 (Flatten)         (None, 200704)            0         \n",
            "                                                                 \n",
            " dense_12 (Dense)            (None, 128)               25690240  \n",
            "                                                                 \n",
            " dropout_8 (Dropout)         (None, 128)               0         \n",
            "                                                                 \n",
            " dense_13 (Dense)            (None, 64)                8256      \n",
            "                                                                 \n",
            " dropout_9 (Dropout)         (None, 64)                0         \n",
            "                                                                 \n",
            " dense_14 (Dense)            (None, 10)                650       \n",
            "                                                                 \n",
            "=================================================================\n",
            "Total params: 26,809,034\n",
            "Trainable params: 26,809,034\n",
            "Non-trainable params: 0\n",
            "_________________________________________________________________\n",
            "Epoch 1/10\n",
            "419/419 [==============================] - 93s 218ms/step - loss: 1.0694 - accuracy: 0.6990 - val_loss: 0.3814 - val_accuracy: 0.8668\n",
            "Epoch 2/10\n",
            "419/419 [==============================] - 91s 217ms/step - loss: 0.4393 - accuracy: 0.8545 - val_loss: 0.3118 - val_accuracy: 0.8861\n",
            "Epoch 3/10\n",
            "419/419 [==============================] - 91s 217ms/step - loss: 0.3587 - accuracy: 0.8832 - val_loss: 0.3121 - val_accuracy: 0.8929\n",
            "Epoch 4/10\n",
            "419/419 [==============================] - 91s 216ms/step - loss: 0.3220 - accuracy: 0.8947 - val_loss: 0.2661 - val_accuracy: 0.9007\n",
            "Epoch 5/10\n",
            "419/419 [==============================] - 91s 216ms/step - loss: 0.3032 - accuracy: 0.9039 - val_loss: 0.4055 - val_accuracy: 0.8680\n",
            "Epoch 6/10\n",
            "419/419 [==============================] - 91s 218ms/step - loss: 0.2885 - accuracy: 0.9100 - val_loss: 0.3241 - val_accuracy: 0.9015\n",
            "Epoch 7/10\n",
            "419/419 [==============================] - 91s 216ms/step - loss: 0.2894 - accuracy: 0.9120 - val_loss: 0.3169 - val_accuracy: 0.9164\n",
            "Epoch 8/10\n",
            "419/419 [==============================] - 90s 216ms/step - loss: 0.2753 - accuracy: 0.9144 - val_loss: 0.3321 - val_accuracy: 0.9031\n",
            "Epoch 9/10\n",
            "419/419 [==============================] - 90s 216ms/step - loss: 0.2734 - accuracy: 0.9169 - val_loss: 0.3460 - val_accuracy: 0.9061\n",
            "Epoch 10/10\n",
            "419/419 [==============================] - 90s 216ms/step - loss: 0.2714 - accuracy: 0.9183 - val_loss: 0.4842 - val_accuracy: 0.9010\n",
            "CNN Test accuracy on digits MNIST: 0.9807142615318298\n",
            "CNN F1 score on digits MNIST: 0.980695744978292\n",
            "CNN Test accuracy on fashion MNIST: 0.906000018119812\n",
            "CNN F1 score on fashion MNIST: 0.9039175653863828\n"
          ]
        }
      ]
    },
    {
      "cell_type": "markdown",
      "metadata": {
        "id": "Em8ny4E2zy-R"
      },
      "source": [
        "### Permuted"
      ]
    },
    {
      "cell_type": "code",
      "metadata": {
        "id": "b61a4iBxUXyF",
        "colab": {
          "base_uri": "https://localhost:8080/"
        },
        "outputId": "7b37e33d-5c82-41b5-bcf2-fd24becf9b50"
      },
      "source": [
        "_, cnn_digits_test_accuracy, cnn_digits_f1_score = run(cnn_model(PERMUTED_DIGITS_DATASET.x_train), 'CNN on permuted digits mnist', PERMUTED_DIGITS_DATASET)\n",
        "_, cnn_fashion_test_accuracy, cnn_fashion_f1_score = run(cnn_model(PERMUTED_FASHION_DATASET.x_train), 'CNN on permuted fashion mnist', PERMUTED_FASHION_DATASET)\n",
        "\n",
        "print(f'CNN Test accuracy on digits MNIST: {cnn_digits_test_accuracy}')\n",
        "print(f'CNN F1 score on digits MNIST: {cnn_digits_f1_score}')\n",
        "print(f'CNN Test accuracy on fashion MNIST: {cnn_fashion_test_accuracy}')\n",
        "print(f'CNN F1 score on fashion MNIST: {cnn_fashion_f1_score}')"
      ],
      "execution_count": null,
      "outputs": [
        {
          "output_type": "stream",
          "name": "stdout",
          "text": [
            "Model: \"sequential_5\"\n",
            "_________________________________________________________________\n",
            " Layer (type)                Output Shape              Param #   \n",
            "=================================================================\n",
            " conv2d_25 (Conv2D)          (None, 28, 28, 64)        3200      \n",
            "                                                                 \n",
            " max_pooling2d_15 (MaxPoolin  (None, 28, 28, 64)       0         \n",
            " g2D)                                                            \n",
            "                                                                 \n",
            " conv2d_26 (Conv2D)          (None, 28, 28, 128)       73856     \n",
            "                                                                 \n",
            " conv2d_27 (Conv2D)          (None, 28, 28, 128)       147584    \n",
            "                                                                 \n",
            " max_pooling2d_16 (MaxPoolin  (None, 28, 28, 128)      0         \n",
            " g2D)                                                            \n",
            "                                                                 \n",
            " conv2d_28 (Conv2D)          (None, 28, 28, 256)       295168    \n",
            "                                                                 \n",
            " conv2d_29 (Conv2D)          (None, 28, 28, 256)       590080    \n",
            "                                                                 \n",
            " max_pooling2d_17 (MaxPoolin  (None, 28, 28, 256)      0         \n",
            " g2D)                                                            \n",
            "                                                                 \n",
            " flatten_5 (Flatten)         (None, 200704)            0         \n",
            "                                                                 \n",
            " dense_15 (Dense)            (None, 128)               25690240  \n",
            "                                                                 \n",
            " dropout_10 (Dropout)        (None, 128)               0         \n",
            "                                                                 \n",
            " dense_16 (Dense)            (None, 64)                8256      \n",
            "                                                                 \n",
            " dropout_11 (Dropout)        (None, 64)                0         \n",
            "                                                                 \n",
            " dense_17 (Dense)            (None, 10)                650       \n",
            "                                                                 \n",
            "=================================================================\n",
            "Total params: 26,809,034\n",
            "Trainable params: 26,809,034\n",
            "Non-trainable params: 0\n",
            "_________________________________________________________________\n",
            "Epoch 1/10\n",
            "419/419 [==============================] - 93s 219ms/step - loss: 0.8857 - accuracy: 0.7162 - val_loss: 0.1509 - val_accuracy: 0.9574\n",
            "Epoch 2/10\n",
            "419/419 [==============================] - 91s 218ms/step - loss: 0.2413 - accuracy: 0.9363 - val_loss: 0.0975 - val_accuracy: 0.9740\n",
            "Epoch 3/10\n",
            "419/419 [==============================] - 91s 218ms/step - loss: 0.1754 - accuracy: 0.9560 - val_loss: 0.0698 - val_accuracy: 0.9832\n",
            "Epoch 4/10\n",
            "419/419 [==============================] - 91s 217ms/step - loss: 0.1432 - accuracy: 0.9647 - val_loss: 0.0627 - val_accuracy: 0.9839\n",
            "Epoch 5/10\n",
            "419/419 [==============================] - 91s 217ms/step - loss: 0.1256 - accuracy: 0.9686 - val_loss: 0.0761 - val_accuracy: 0.9842\n",
            "Epoch 6/10\n",
            "419/419 [==============================] - 91s 217ms/step - loss: 0.1128 - accuracy: 0.9737 - val_loss: 0.0596 - val_accuracy: 0.9862\n",
            "Epoch 7/10\n",
            "419/419 [==============================] - 91s 217ms/step - loss: 0.1162 - accuracy: 0.9733 - val_loss: 0.0964 - val_accuracy: 0.9837\n",
            "Epoch 8/10\n",
            "419/419 [==============================] - 91s 217ms/step - loss: 0.1098 - accuracy: 0.9754 - val_loss: 0.0523 - val_accuracy: 0.9866\n",
            "Epoch 9/10\n",
            "419/419 [==============================] - 91s 217ms/step - loss: 0.1089 - accuracy: 0.9756 - val_loss: 0.0675 - val_accuracy: 0.9848\n",
            "Epoch 10/10\n",
            "419/419 [==============================] - 91s 216ms/step - loss: 0.1052 - accuracy: 0.9762 - val_loss: 0.1200 - val_accuracy: 0.9782\n",
            "Model: \"sequential_6\"\n",
            "_________________________________________________________________\n",
            " Layer (type)                Output Shape              Param #   \n",
            "=================================================================\n",
            " conv2d_30 (Conv2D)          (None, 28, 28, 64)        3200      \n",
            "                                                                 \n",
            " max_pooling2d_18 (MaxPoolin  (None, 28, 28, 64)       0         \n",
            " g2D)                                                            \n",
            "                                                                 \n",
            " conv2d_31 (Conv2D)          (None, 28, 28, 128)       73856     \n",
            "                                                                 \n",
            " conv2d_32 (Conv2D)          (None, 28, 28, 128)       147584    \n",
            "                                                                 \n",
            " max_pooling2d_19 (MaxPoolin  (None, 28, 28, 128)      0         \n",
            " g2D)                                                            \n",
            "                                                                 \n",
            " conv2d_33 (Conv2D)          (None, 28, 28, 256)       295168    \n",
            "                                                                 \n",
            " conv2d_34 (Conv2D)          (None, 28, 28, 256)       590080    \n",
            "                                                                 \n",
            " max_pooling2d_20 (MaxPoolin  (None, 28, 28, 256)      0         \n",
            " g2D)                                                            \n",
            "                                                                 \n",
            " flatten_6 (Flatten)         (None, 200704)            0         \n",
            "                                                                 \n",
            " dense_18 (Dense)            (None, 128)               25690240  \n",
            "                                                                 \n",
            " dropout_12 (Dropout)        (None, 128)               0         \n",
            "                                                                 \n",
            " dense_19 (Dense)            (None, 64)                8256      \n",
            "                                                                 \n",
            " dropout_13 (Dropout)        (None, 64)                0         \n",
            "                                                                 \n",
            " dense_20 (Dense)            (None, 10)                650       \n",
            "                                                                 \n",
            "=================================================================\n",
            "Total params: 26,809,034\n",
            "Trainable params: 26,809,034\n",
            "Non-trainable params: 0\n",
            "_________________________________________________________________\n",
            "Epoch 1/10\n",
            "419/419 [==============================] - 93s 218ms/step - loss: 1.1373 - accuracy: 0.6600 - val_loss: 0.4638 - val_accuracy: 0.8370\n",
            "Epoch 2/10\n",
            "419/419 [==============================] - 91s 218ms/step - loss: 0.5109 - accuracy: 0.8300 - val_loss: 0.4118 - val_accuracy: 0.8611\n",
            "Epoch 3/10\n",
            "419/419 [==============================] - 91s 217ms/step - loss: 0.4265 - accuracy: 0.8596 - val_loss: 0.3626 - val_accuracy: 0.8727\n",
            "Epoch 4/10\n",
            "419/419 [==============================] - 92s 219ms/step - loss: 0.3934 - accuracy: 0.8713 - val_loss: 0.3334 - val_accuracy: 0.8797\n",
            "Epoch 5/10\n",
            "419/419 [==============================] - 91s 216ms/step - loss: 0.3629 - accuracy: 0.8819 - val_loss: 0.3459 - val_accuracy: 0.8770\n",
            "Epoch 6/10\n",
            "419/419 [==============================] - 91s 216ms/step - loss: 0.3491 - accuracy: 0.8862 - val_loss: 0.3396 - val_accuracy: 0.8716\n",
            "Epoch 7/10\n",
            "419/419 [==============================] - 91s 216ms/step - loss: 0.3382 - accuracy: 0.8916 - val_loss: 0.3337 - val_accuracy: 0.8877\n",
            "Epoch 8/10\n",
            "419/419 [==============================] - 90s 216ms/step - loss: 0.3278 - accuracy: 0.8941 - val_loss: 0.3360 - val_accuracy: 0.8910\n",
            "Epoch 9/10\n",
            "419/419 [==============================] - 90s 216ms/step - loss: 0.3222 - accuracy: 0.8952 - val_loss: 0.3481 - val_accuracy: 0.8878\n",
            "Epoch 10/10\n",
            "419/419 [==============================] - 90s 216ms/step - loss: 0.3227 - accuracy: 0.8969 - val_loss: 0.3183 - val_accuracy: 0.8853\n",
            "CNN Test accuracy on digits MNIST: 0.9751428365707397\n",
            "CNN F1 score on digits MNIST: 0.9751942466229213\n",
            "CNN Test accuracy on fashion MNIST: 0.8948571681976318\n",
            "CNN F1 score on fashion MNIST: 0.893033865167296\n"
          ]
        }
      ]
    },
    {
      "cell_type": "code",
      "metadata": {
        "id": "x67ti_p5QStq"
      },
      "source": [
        ""
      ],
      "execution_count": null,
      "outputs": []
    }
  ]
}